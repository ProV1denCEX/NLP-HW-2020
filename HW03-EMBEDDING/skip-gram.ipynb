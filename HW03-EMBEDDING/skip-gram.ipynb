{
 "cells": [
  {
   "cell_type": "markdown",
   "metadata": {},
   "source": [
    "# Introduction\n",
    "\n",
    "In this homework you will be given a chance to explore the properties of word embedding using a pre-trained embedding. Then you will build and train your own embedding using the skip-gram method.\n",
    "\n",
    "## Files\n",
    "- `hw03.ipynb`: Notebook file with starter code\n",
    "- `plot_summaries_tokenized.txt`: training data for skipgram\n",
    "- `glove_6B_100d_top100k.csv`: pretrained glove embedding\n",
    "\n",
    "The training data and glove embedding \n",
    "\n",
    "\n",
    "## Reading material\n",
    "\n",
    "1. [Learning representations by back-propagating errors](https://www.nature.com/articles/323533a0)\n",
    "\n",
    "Recent Turing Reward winner Geoffrey Hinton and coworkers first introduced the concept of words embedding in their 1986 Nature paper.\n",
    "\n",
    "2. [word2vec](https://code.google.com/archive/p/word2vec/)\n",
    "\n",
    "Google's word2vec project built on skip-gram and google news data.\n",
    "\n",
    "3. [Efficient Estimation of Word Representations in\n",
    "Vector Space](https://arxiv.org/pdf/1301.3781.pdf)\n",
    "\n",
    "   [Distributed Representations of Words and Phrases\n",
    "and their Compositionality](https://arxiv.org/pdf/1310.4546.pdf)\n",
    "\n",
    "Tomas Mikolov from Google published these two papers in 2013 proposing the skip-gram approach for word embedding which has become one of the most popular word embedding.\n",
    "\n",
    "4. [On word embeddings](http://ruder.io/word-embeddings-1/index.html)\n",
    "\n",
    "An online blog by DeepMind engineer Sebastian Ruder explaining skip-gram. I found it easier to understand than the original papers.\n",
    "\n",
    "## Deliverables:\n",
    "\n",
    "- pdf / html version of your final notebook\n",
    "- Discuss the questions in Section 3 (Play with pretrained)\n",
    "- If you have done any work to improve the model and model training, explain it."
   ]
  },
  {
   "cell_type": "markdown",
   "metadata": {},
   "source": [
    "## =========================Coding starts here =================="
   ]
  },
  {
   "cell_type": "markdown",
   "metadata": {},
   "source": [
    "# Required pacakges"
   ]
  },
  {
   "cell_type": "code",
   "execution_count": 15,
   "metadata": {
    "ExecuteTime": {
     "end_time": "2020-03-07T23:49:58.388977Z",
     "start_time": "2020-03-07T23:49:58.369081Z"
    },
    "pycharm": {
     "is_executing": false
    }
   },
   "outputs": [],
   "source": [
    "%matplotlib inline\n",
    "import pandas as pd\n",
    "import seaborn as sns\n",
    "import matplotlib.pyplot as plt\n",
    "import sklearn\n",
    "import tensorflow.keras as keras\n",
    "import numpy as np\n",
    "import os\n",
    "import sys\n",
    "\n",
    "# add utils folder to path\n",
    "p = os.path.dirname(os.getcwd())\n",
    "if p not in sys.path:\n",
    "    sys.path = [p] + sys.path\n",
    "\n",
    "from utils.hw3 import load_data\n",
    "from utils.general import show_keras_model"
   ]
  },
  {
   "cell_type": "markdown",
   "metadata": {},
   "source": [
    "# Play with pretrained embedding\n",
    "\n",
    "Before we start training our own words embedding, let's play with pretrained embeddings, so you know what you can expect from your own models. Here we use a very popular embedding called [GloVe](https://nlp.stanford.edu/projects/glove/) developed by standford university. The method used to produce this embedding is based on the factorization of word-word similarity matrix. Worth to notice, thi method is quite different to the skip-gram method we are going to implement later.\n",
    "\n",
    "First let's load the embedding as a Pandas DataFrame."
   ]
  },
  {
   "cell_type": "code",
   "execution_count": 16,
   "metadata": {
    "ExecuteTime": {
     "end_time": "2020-03-07T23:44:59.746988Z",
     "start_time": "2020-03-07T23:44:23.376812Z"
    },
    "pycharm": {
     "is_executing": false
    }
   },
   "outputs": [
    {
     "data": {
      "text/plain": "        the        ,        .       of        to       and        in  \\\n0 -0.038194 -0.10767 -0.33979 -0.15290 -0.189700 -0.071953  0.085703   \n1 -0.244870  0.11053  0.20941 -0.24279  0.050024  0.231270 -0.222010   \n2  0.728120  0.59812  0.46348  0.89837  0.190840  0.023731  0.165690   \n3 -0.399610 -0.54361 -0.64792  0.16996 -0.049184 -0.506380  0.133730   \n4  0.083172  0.67396 -0.38377  0.53516 -0.089737  0.339230  0.382390   \n\n          a        \"       's  ...      antz   monnaie  copyist   toonami  \\\n0 -0.270860 -0.30457  0.58854  ...  0.175470 -0.032896  0.37886  0.339320   \n1  0.044006 -0.23645 -0.20250  ... -0.559680 -0.721960 -0.24468 -0.266210   \n2 -0.020260  0.17576  0.73479  ...  0.480470 -0.129030  0.45714 -0.224130   \n3 -0.173950 -0.72854 -0.68338  ...  0.287520  1.169300  0.17411 -1.158300   \n4  0.644400 -0.28343 -0.19675  ... -0.021609  0.335410  0.49281 -0.083679   \n\n   bagration     divo  convulsive  unviable  madhava  autocephalous  \n0   -0.52125  0.20375     0.42829 -0.560580 -0.26374       0.457840  \n1   -1.09030 -0.07108     0.29863 -0.486880  0.20904       0.154020  \n2   -0.66645 -0.13259    -0.15156 -0.314340 -1.12440       0.321590  \n3    0.23457  0.15806     0.21284 -0.174410  0.25690       0.807420  \n4    0.36971 -0.48602    -0.13771  0.041936 -0.71330      -0.074811  \n\n[5 rows x 100000 columns]",
      "text/html": "<div>\n<style scoped>\n    .dataframe tbody tr th:only-of-type {\n        vertical-align: middle;\n    }\n\n    .dataframe tbody tr th {\n        vertical-align: top;\n    }\n\n    .dataframe thead th {\n        text-align: right;\n    }\n</style>\n<table border=\"1\" class=\"dataframe\">\n  <thead>\n    <tr style=\"text-align: right;\">\n      <th></th>\n      <th>the</th>\n      <th>,</th>\n      <th>.</th>\n      <th>of</th>\n      <th>to</th>\n      <th>and</th>\n      <th>in</th>\n      <th>a</th>\n      <th>\"</th>\n      <th>'s</th>\n      <th>...</th>\n      <th>antz</th>\n      <th>monnaie</th>\n      <th>copyist</th>\n      <th>toonami</th>\n      <th>bagration</th>\n      <th>divo</th>\n      <th>convulsive</th>\n      <th>unviable</th>\n      <th>madhava</th>\n      <th>autocephalous</th>\n    </tr>\n  </thead>\n  <tbody>\n    <tr>\n      <th>0</th>\n      <td>-0.038194</td>\n      <td>-0.10767</td>\n      <td>-0.33979</td>\n      <td>-0.15290</td>\n      <td>-0.189700</td>\n      <td>-0.071953</td>\n      <td>0.085703</td>\n      <td>-0.270860</td>\n      <td>-0.30457</td>\n      <td>0.58854</td>\n      <td>...</td>\n      <td>0.175470</td>\n      <td>-0.032896</td>\n      <td>0.37886</td>\n      <td>0.339320</td>\n      <td>-0.52125</td>\n      <td>0.20375</td>\n      <td>0.42829</td>\n      <td>-0.560580</td>\n      <td>-0.26374</td>\n      <td>0.457840</td>\n    </tr>\n    <tr>\n      <th>1</th>\n      <td>-0.244870</td>\n      <td>0.11053</td>\n      <td>0.20941</td>\n      <td>-0.24279</td>\n      <td>0.050024</td>\n      <td>0.231270</td>\n      <td>-0.222010</td>\n      <td>0.044006</td>\n      <td>-0.23645</td>\n      <td>-0.20250</td>\n      <td>...</td>\n      <td>-0.559680</td>\n      <td>-0.721960</td>\n      <td>-0.24468</td>\n      <td>-0.266210</td>\n      <td>-1.09030</td>\n      <td>-0.07108</td>\n      <td>0.29863</td>\n      <td>-0.486880</td>\n      <td>0.20904</td>\n      <td>0.154020</td>\n    </tr>\n    <tr>\n      <th>2</th>\n      <td>0.728120</td>\n      <td>0.59812</td>\n      <td>0.46348</td>\n      <td>0.89837</td>\n      <td>0.190840</td>\n      <td>0.023731</td>\n      <td>0.165690</td>\n      <td>-0.020260</td>\n      <td>0.17576</td>\n      <td>0.73479</td>\n      <td>...</td>\n      <td>0.480470</td>\n      <td>-0.129030</td>\n      <td>0.45714</td>\n      <td>-0.224130</td>\n      <td>-0.66645</td>\n      <td>-0.13259</td>\n      <td>-0.15156</td>\n      <td>-0.314340</td>\n      <td>-1.12440</td>\n      <td>0.321590</td>\n    </tr>\n    <tr>\n      <th>3</th>\n      <td>-0.399610</td>\n      <td>-0.54361</td>\n      <td>-0.64792</td>\n      <td>0.16996</td>\n      <td>-0.049184</td>\n      <td>-0.506380</td>\n      <td>0.133730</td>\n      <td>-0.173950</td>\n      <td>-0.72854</td>\n      <td>-0.68338</td>\n      <td>...</td>\n      <td>0.287520</td>\n      <td>1.169300</td>\n      <td>0.17411</td>\n      <td>-1.158300</td>\n      <td>0.23457</td>\n      <td>0.15806</td>\n      <td>0.21284</td>\n      <td>-0.174410</td>\n      <td>0.25690</td>\n      <td>0.807420</td>\n    </tr>\n    <tr>\n      <th>4</th>\n      <td>0.083172</td>\n      <td>0.67396</td>\n      <td>-0.38377</td>\n      <td>0.53516</td>\n      <td>-0.089737</td>\n      <td>0.339230</td>\n      <td>0.382390</td>\n      <td>0.644400</td>\n      <td>-0.28343</td>\n      <td>-0.19675</td>\n      <td>...</td>\n      <td>-0.021609</td>\n      <td>0.335410</td>\n      <td>0.49281</td>\n      <td>-0.083679</td>\n      <td>0.36971</td>\n      <td>-0.48602</td>\n      <td>-0.13771</td>\n      <td>0.041936</td>\n      <td>-0.71330</td>\n      <td>-0.074811</td>\n    </tr>\n  </tbody>\n</table>\n<p>5 rows × 100000 columns</p>\n</div>"
     },
     "metadata": {},
     "output_type": "execute_result",
     "execution_count": 16
    }
   ],
   "source": [
    "glove = pd.read_csv(\"glove_6B_100d_top100k.csv\")\n",
    "glove.head()"
   ]
  },
  {
   "cell_type": "markdown",
   "metadata": {},
   "source": [
    "## Find nearest words\n",
    "One of the many motivations that people are interested in words embedding is that it reveals similarities between words. Let's first check how this works with GloVe."
   ]
  },
  {
   "cell_type": "code",
   "execution_count": 17,
   "metadata": {
    "ExecuteTime": {
     "end_time": "2020-03-07T23:58:51.519272Z",
     "start_time": "2020-03-07T23:58:49.105932Z"
    },
    "pycharm": {
     "is_executing": false
    }
   },
   "outputs": [],
   "source": [
    "from sklearn.metrics.pairwise import euclidean_distances, cosine_distances\n",
    "\n",
    "\n",
    "def find_nearest(embedding, word=None, n=5, distance=euclidean_distances):\n",
    "    \"\"\"\n",
    "    For given embedding matrix and a given word, find the n nearest words in the embedding space\n",
    "\n",
    "    input:\n",
    "        embedding: DataFrame, look at `glove`\n",
    "        word: string, must be in the index of embedding dataframe\n",
    "        n: int, number of nearest words\n",
    "        distance: fucntion, it should at least support the euclidean_distances and cosine_distances\n",
    "\n",
    "    return:\n",
    "        A series with word as index, distance as value, sorted from lower to high\n",
    "    \"\"\"\n",
    "    \"\"\"\n",
    "    Write your code here\n",
    "    \"\"\"\n",
    "    if word in embedding.columns:\n",
    "        word_mat = embedding.loc[:, word].to_numpy().reshape(1, -1)\n",
    "\n",
    "        words_mat = embedding.to_numpy()\n",
    "        distances = np.zeros(words_mat.shape[1])\n",
    "        for i in range(words_mat.shape[1]):\n",
    "            distances[i] = distance(word_mat, words_mat[:, i].reshape(1, -1))\n",
    "\n",
    "        index = distances.argsort()\n",
    "        nearest = embedding.columns[index[:n+1]][1:]\n",
    "        nearest_distance = distances[index[:n+1]][1:]\n",
    "\n",
    "        return pd.Series(data=nearest_distance, index=nearest)\n",
    "\n",
    "    else:\n",
    "        print(\"word must be in embedding columns !\")\n",
    "        return None"
   ]
  },
  {
   "cell_type": "code",
   "execution_count": 18,
   "metadata": {
    "ExecuteTime": {
     "end_time": "2019-03-30T01:03:37.284629Z",
     "start_time": "2019-03-30T01:03:37.132508Z"
    },
    "pycharm": {
     "is_executing": false
    }
   },
   "outputs": [
    {
     "name": "stdout",
     "text": [
      "Using euclidean_distances, the closest words to frog are:\n",
      "dragon      4.210776\n",
      "elephant    4.273111\n",
      "wolf        4.667664\n",
      "beast       4.737944\n",
      "cat         4.739263\n",
      "dtype: float64\n",
      "Using cosine_distances, the closest words to frog are:\n",
      "dragon      0.301670\n",
      "elephant    0.329856\n",
      "leopard     0.386800\n",
      "bear        0.386803\n",
      "cat         0.404449\n",
      "dtype: float64\n"
     ],
     "output_type": "stream"
    }
   ],
   "source": [
    "print(\"Using euclidean_distances, the closest words to frog are:\")\n",
    "print(find_nearest(glove, 'lion'))\n",
    "print(\"Using cosine_distances, the closest words to frog are:\")\n",
    "print(find_nearest(glove, 'lion', distance=cosine_distances))"
   ]
  },
  {
   "cell_type": "code",
   "execution_count": 19,
   "metadata": {
    "ExecuteTime": {
     "end_time": "2020-03-07T23:45:44.318582Z",
     "start_time": "2020-03-07T23:45:44.126284Z"
    },
    "pycharm": {
     "is_executing": false
    }
   },
   "outputs": [
    {
     "name": "stdout",
     "text": [
      "9    0.943478\n",
      "7    0.943649\n",
      "6    1.037347\n",
      "5    1.111455\n",
      "4    1.339804\n",
      "dtype: float64\n",
      "yahoo        0.136264\n",
      "microsoft    0.189590\n",
      "web          0.237019\n",
      "aol          0.242831\n",
      "facebook     0.248342\n",
      "dtype: float64\n"
     ],
     "output_type": "stream"
    }
   ],
   "source": [
    "print(find_nearest(glove, '8'))\n",
    "\n",
    "print(find_nearest(glove, 'google', distance=cosine_distances))"
   ]
  },
  {
   "cell_type": "markdown",
   "metadata": {
    "ExecuteTime": {
     "end_time": "2019-03-29T02:05:13.828526Z",
     "start_time": "2019-03-29T02:05:13.732489Z"
    }
   },
   "source": [
    "What have you observed? Does the result make sense to you? Play with some other words, and see if you can find something interesting. Try countries and numebrs :). "
   ]
  },
  {
   "cell_type": "code",
   "execution_count": 20,
   "outputs": [
    {
     "name": "stdout",
     "text": [
      "word must be in embedding columns !\n",
      "None\n",
      "word must be in embedding columns !\n",
      "None\n",
      "9    0.943478\n",
      "7    0.943649\n",
      "6    1.037347\n",
      "5    1.111455\n",
      "4    1.339804\n",
      "dtype: float64\n",
      "7    0.013022\n",
      "9    0.013233\n",
      "6    0.015244\n",
      "5    0.018079\n",
      "4    0.024306\n",
      "dtype: float64\n",
      "4    0.944766\n",
      "8    1.037347\n",
      "5    1.052112\n",
      "7    1.160639\n",
      "3    1.476703\n",
      "dtype: float64\n",
      "4    0.012068\n",
      "8    0.015244\n",
      "5    0.015719\n",
      "7    0.019157\n",
      "3    0.029164\n",
      "dtype: float64\n",
      "word must be in embedding columns !\n",
      "None\n",
      "word must be in embedding columns !\n",
      "None\n"
     ],
     "output_type": "stream"
    }
   ],
   "source": [
    "print(find_nearest(glove, 'China'))\n",
    "print(find_nearest(glove, 'China', distance=cosine_distances))\n",
    "\n",
    "print(find_nearest(glove, '8'))\n",
    "print(find_nearest(glove, '8', distance=cosine_distances))\n",
    "\n",
    "print(find_nearest(glove, '6'))\n",
    "print(find_nearest(glove, '6', distance=cosine_distances))\n",
    "\n",
    "print(find_nearest(glove, 'USA'))\n",
    "print(find_nearest(glove, 'USA', distance=cosine_distances))"
   ],
   "metadata": {
    "collapsed": false,
    "pycharm": {
     "name": "#%%\n",
     "is_executing": false
    }
   }
  },
  {
   "cell_type": "markdown",
   "metadata": {},
   "source": [
    "## Find nearest words with vector\n",
    "Remember that at the beginning of the course we advertised the ability of word embedding being able to find relative relationship between words, such as king - male + female = queen. Let's test this with the embedding we have. But before that we need a method that's similar to find_nearest, but instead of taking a word, it takes an embedding vector as input."
   ]
  },
  {
   "cell_type": "code",
   "execution_count": 21,
   "metadata": {
    "ExecuteTime": {
     "end_time": "2020-03-07T23:58:59.476431Z",
     "start_time": "2020-03-07T23:58:59.469863Z"
    },
    "pycharm": {
     "is_executing": false
    }
   },
   "outputs": [],
   "source": [
    "def find_nearest_with_vector(embedding, vector=None, n=5, distance=euclidean_distances):\n",
    "    \"\"\"\n",
    "    For given embedding matrix and a given vector, find the n nearest words in the embedding space\n",
    "\n",
    "    input:\n",
    "        embedding: DataFrame, look at `glove`\n",
    "        vector: Series, looks like a coloumn vector of the embedding dataframe\n",
    "        n: int, number of nearest words\n",
    "        distance: fucntion, it should at least support the euclidean_distances and cosine_distances\n",
    "\n",
    "    return:\n",
    "        A series with word as index, distance as value, sorted from lower to high\n",
    "    \"\"\"\n",
    "    \"\"\"\n",
    "    Write your code here\n",
    "    \"\"\"\n",
    "    word_mat = vector.to_numpy().reshape(1, -1)\n",
    "    words_mat = embedding.to_numpy()\n",
    "    distances = np.zeros(words_mat.shape[1])\n",
    "    for i in range(words_mat.shape[1]):\n",
    "        distances[i] = distance(word_mat, words_mat[:, i].reshape(1, -1))\n",
    "\n",
    "    index = distances.argsort()\n",
    "    nearest = embedding.columns[index[:n]]\n",
    "    nearest_distance = distances[index[:n]]\n",
    "\n",
    "    return pd.Series(data=nearest_distance, index=nearest)"
   ]
  },
  {
   "cell_type": "code",
   "execution_count": 22,
   "metadata": {
    "ExecuteTime": {
     "end_time": "2019-03-29T06:02:47.514735Z",
     "start_time": "2019-03-29T06:02:47.422576Z"
    },
    "pycharm": {
     "is_executing": false
    }
   },
   "outputs": [
    {
     "data": {
      "text/plain": "king       1.969117\nqueen      4.340831\nprince     4.542057\nmonarch    4.704783\nbrother    4.717307\ndtype: float64"
     },
     "metadata": {},
     "output_type": "execute_result",
     "execution_count": 22
    }
   ],
   "source": [
    "find_nearest_with_vector(glove, glove['king']-glove['male']+glove['female'])"
   ]
  },
  {
   "cell_type": "code",
   "execution_count": 23,
   "metadata": {
    "ExecuteTime": {
     "end_time": "2020-03-07T23:46:03.833808Z",
     "start_time": "2020-03-07T23:46:03.754128Z"
    },
    "pycharm": {
     "is_executing": false
    }
   },
   "outputs": [
    {
     "data": {
      "text/plain": "china      6.654226\ncapital    6.866541\nbeijing    7.820086\nchinese    8.027392\ntaiwan     8.451052\ndtype: float64"
     },
     "metadata": {},
     "output_type": "execute_result",
     "execution_count": 23
    }
   ],
   "source": [
    "find_nearest_with_vector(glove, glove['china']+glove['capital'])"
   ]
  },
  {
   "cell_type": "markdown",
   "metadata": {
    "ExecuteTime": {
     "end_time": "2019-03-29T06:04:08.834136Z",
     "start_time": "2019-03-29T06:04:08.755134Z"
    }
   },
   "source": [
    "What did you see? Can you explore some other interesting relations? Like countries vs cities, etc."
   ]
  },
  {
   "cell_type": "code",
   "execution_count": 24,
   "outputs": [
    {
     "data": {
      "text/plain": "male      6.010993\nfemale    6.027840\nwomen     8.609066\nwoman     8.820631\nadult     8.829839\ndtype: float64"
     },
     "metadata": {},
     "output_type": "execute_result",
     "execution_count": 24
    }
   ],
   "source": [
    "find_nearest_with_vector(glove, glove['china']-glove['beijing'])\n",
    "find_nearest_with_vector(glove, glove['male']+glove['female'])\n",
    "\n"
   ],
   "metadata": {
    "collapsed": false,
    "pycharm": {
     "name": "#%%\n",
     "is_executing": false
    }
   }
  },
  {
   "cell_type": "markdown",
   "metadata": {},
   "source": [
    "## Word clustering\n",
    "\n",
    "Another feature of the word embedding is that it can cluster similar word in to the same cluster while keep semantic relationship with other clusters. Try the following dimention reduction code:"
   ]
  },
  {
   "cell_type": "code",
   "execution_count": 25,
   "metadata": {
    "ExecuteTime": {
     "end_time": "2020-03-07T23:46:16.857248Z",
     "start_time": "2020-03-07T23:46:16.301587Z"
    },
    "pycharm": {
     "is_executing": false
    }
   },
   "outputs": [],
   "source": [
    "from sklearn.decomposition import PCA\n",
    "\n",
    "def plot_2D(X, labels):\n",
    "    x_min, x_max = np.min(X, 0), np.max(X, 0)\n",
    "    X = 0.1 + 0.8 * (X - x_min) / (x_max - x_min)\n",
    "\n",
    "    plt.figure(figsize=(10, 8))\n",
    "    for x, lab in zip(X, labels):\n",
    "        plt.text(x[0], x[1], str(lab), fontdict={'size': 14})\n",
    "        \n",
    "def plot_words_embedding(embedding, words):\n",
    "    X = PCA(n_components=2).fit_transform(embedding[words].transpose())\n",
    "    plot_2D(X, words)"
   ]
  },
  {
   "cell_type": "code",
   "execution_count": 26,
   "metadata": {
    "ExecuteTime": {
     "end_time": "2020-03-07T23:46:51.609021Z",
     "start_time": "2020-03-07T23:46:50.969477Z"
    },
    "pycharm": {
     "is_executing": false
    }
   },
   "outputs": [
    {
     "data": {
      "text/plain": "<Figure size 720x576 with 1 Axes>",
      "image/png": "[encoded data removed]"
     },
     "metadata": {
      "needs_background": "light"
     },
     "output_type": "display_data"
    }
   ],
   "source": [
    "words = ['china', 'beijing', 'russia', 'moscow', 'poland', 'warsaw', 'japan', 'tokyo',\n",
    "        'france', 'paris', 'germany', 'berlin', 'italy', 'rome', 'spain', 'madrid']\n",
    "\n",
    "plot_words_embedding(glove, words)"
   ]
  },
  {
   "cell_type": "markdown",
   "metadata": {},
   "source": [
    "Have you spot something interesting? Try with some other words set and see what you can find."
   ]
  },
  {
   "cell_type": "code",
   "execution_count": 27,
   "outputs": [
    {
     "data": {
      "text/plain": "<Figure size 720x576 with 1 Axes>",
      "image/png": "[encoded data removed]"
     },
     "metadata": {
      "needs_background": "light"
     },
     "output_type": "display_data"
    }
   ],
   "source": [
    "words = ['man', 'woman', 'male', 'female', 'daughter', 'son', 'boy', 'girl']\n",
    "\n",
    "plot_words_embedding(glove, words)\n"
   ],
   "metadata": {
    "collapsed": false,
    "pycharm": {
     "name": "#%%\n",
     "is_executing": false
    }
   }
  },
  {
   "cell_type": "markdown",
   "metadata": {},
   "source": [
    "# Skip-gram"
   ]
  },
  {
   "cell_type": "markdown",
   "metadata": {},
   "source": [
    "## Load the training data"
   ]
  },
  {
   "cell_type": "code",
   "execution_count": 28,
   "metadata": {
    "ExecuteTime": {
     "end_time": "2020-03-07T23:50:30.676072Z",
     "start_time": "2020-03-07T23:50:22.675511Z"
    },
    "pycharm": {
     "is_executing": false
    }
   },
   "outputs": [
    {
     "name": "stdout",
     "text": [
      "Number of summarys:  42306\n",
      "Number of words: 13065221\n",
      "Vocabulary size: 190786\n"
     ],
     "output_type": "stream"
    }
   ],
   "source": [
    "from utils.hw3 import load_data\n",
    "from nltk.stem import WordNetLemmatizer\n",
    "from nltk.corpus import stopwords\n",
    "\n",
    "\n",
    "text = load_data(\"plot_summaries_tokenized.txt\")\n",
    "\n",
    "print(\"Number of summarys: \", len(text))\n",
    "print(\"Number of words:\", len([w for s in text for w in s]))\n",
    "print(\"Vocabulary size:\", len({w for s in text for w in s}))\n",
    "\n",
    "wnl = WordNetLemmatizer()\n",
    "stop_words = stopwords.words('english') + \\\n",
    "             ['~', '`', '@', '#', '$', '%', '^', '&', '*', '(', ')', '[', ']', '|', '/', '.', ',', ';', ':', \"'\", '\"']\n",
    "stop_words = [wnl.lemmatize(i) for i in stop_words]\n",
    "\n",
    "for i in range(len(text)):\n",
    "    text[i] = [wnl.lemmatize(j) for j in text[i] if j not in stop_words]"
   ]
  },
  {
   "cell_type": "markdown",
   "metadata": {
    "ExecuteTime": {
     "end_time": "2019-03-28T04:00:19.581151Z",
     "start_time": "2019-03-28T04:00:19.515978Z"
    }
   },
   "source": [
    "There are about 200K unique words in this corpus. To make it more computational feasible, let's reduce the size of the vocabulary:"
   ]
  },
  {
   "cell_type": "markdown",
   "metadata": {},
   "source": [
    "## Encode the text"
   ]
  },
  {
   "cell_type": "code",
   "execution_count": 29,
   "metadata": {
    "ExecuteTime": {
     "end_time": "2020-03-07T23:59:22.225406Z",
     "start_time": "2020-03-07T23:59:22.216506Z"
    },
    "pycharm": {
     "is_executing": false
    }
   },
   "outputs": [],
   "source": [
    "MIN_COUNT = 20\n",
    "def create_encoder(text, min_count=20):\n",
    "    \"\"\"\n",
    "    - Create a encoder which is a dictionary like {word: index}\n",
    "    - To reduce the total number of vocabularies, you can remove\n",
    "    the words that appear for less than min_count times in the entire\n",
    "    corpus\n",
    "    - Enfore {'_unknown_': 0}\n",
    "\n",
    "    input:\n",
    "        text: list of token list, e.g. [['i', 'am', 'fine'], ['another', 'summary'], ...]\n",
    "    returns:\n",
    "        tokenmap:  encoder dictionary\n",
    "        tokenmap_reverse: reversed tokenmap {index: word} to faciliate inverse lookup\n",
    "    \"\"\"\n",
    "\n",
    "    \"\"\"\n",
    "    Write your code here\n",
    "    \"\"\"\n",
    "    word_counter = {}\n",
    "    tokens = {'_unknown_'}\n",
    "\n",
    "    for i in text:\n",
    "        for j in i:\n",
    "            if j not in tokens:\n",
    "                if j in word_counter:\n",
    "                    word_counter[j] += 1\n",
    "\n",
    "                    if word_counter[j] >= min_count:\n",
    "                        tokens.add(j)\n",
    "\n",
    "                else:\n",
    "                    word_counter[j] = 1\n",
    "\n",
    "    tokenmap = {k: v for v, k in enumerate(tokens)}\n",
    "    tokenmap_reverse = {v: k for v, k in enumerate(tokens)}\n",
    "\n",
    "    return tokenmap, tokenmap_reverse"
   ]
  },
  {
   "cell_type": "code",
   "execution_count": 30,
   "metadata": {
    "ExecuteTime": {
     "end_time": "2020-03-07T23:51:06.142814Z",
     "start_time": "2020-03-07T23:51:02.367188Z"
    },
    "pycharm": {
     "is_executing": false
    }
   },
   "outputs": [
    {
     "name": "stdout",
     "text": [
      "the reduced vocabulary size is: 23385\n"
     ],
     "output_type": "stream"
    }
   ],
   "source": [
    "tokenmap, tokenmap_reverse = create_encoder(text, MIN_COUNT)\n",
    "VOCAB_SIZE = len(tokenmap)\n",
    "print(\"the reduced vocabulary size is:\", VOCAB_SIZE)"
   ]
  },
  {
   "cell_type": "code",
   "execution_count": 31,
   "metadata": {
    "ExecuteTime": {
     "end_time": "2020-03-07T23:51:11.898244Z",
     "start_time": "2020-03-07T23:51:11.891922Z"
    },
    "pycharm": {
     "is_executing": false
    }
   },
   "outputs": [],
   "source": [
    "# Encoder the text using the encoder you just created\n",
    "def encode(text, tokenmap, default=0):\n",
    "    return [[tokenmap.get(t, default) for t in s] for s in text]"
   ]
  },
  {
   "cell_type": "code",
   "execution_count": 32,
   "metadata": {
    "ExecuteTime": {
     "end_time": "2019-03-30T01:32:45.468046Z",
     "start_time": "2019-03-30T01:32:37.844437Z"
    },
    "pycharm": {
     "is_executing": false
    }
   },
   "outputs": [],
   "source": [
    "text_encoded = encode(text, tokenmap)"
   ]
  },
  {
   "cell_type": "markdown",
   "metadata": {},
   "source": [
    "## Construct training context pairs"
   ]
  },
  {
   "cell_type": "markdown",
   "metadata": {},
   "source": [
    "To generate training data, we need to find word-context pairs from the encoded text, \n",
    "we also want to generate some negative sample, so the input and output may look like:\n",
    "\n",
    "for input corpus: [[2, 3, 1, 2]] \n",
    "\n",
    "returns: [[word, context, label]]\n",
    "\n",
    "[[2, 3, 1], [2, 1, 1], [2, 2, 1], [3, 1, 1], ...., [4, 2, 0], [4, 3, 0], ...]\n",
    "\n",
    "Notice that in practice the sequence should be shuffled."
   ]
  },
  {
   "cell_type": "code",
   "execution_count": 33,
   "metadata": {
    "ExecuteTime": {
     "end_time": "2020-03-07T23:59:37.507750Z",
     "start_time": "2020-03-07T23:59:29.496374Z"
    },
    "pycharm": {
     "is_executing": false
    }
   },
   "outputs": [],
   "source": [
    "from tensorflow.keras.preprocessing.sequence import skipgrams, make_sampling_table\n",
    "import random\n",
    "\n",
    "\n",
    "def training_data_generator(text_encoded, window_size=4, negative_samples=1.0, batch_docs=50):\n",
    "    \"\"\"\n",
    "    For given encoded text, return 3 np.array:\n",
    "    words, contexts, labels\n",
    "    Do not pair the w and its context cross different documents.\n",
    "\n",
    "    input:\n",
    "        text_encoded: list of list of int, each list of int is the numerical encoding of the doc\n",
    "        window_size: int, define the context\n",
    "        negative_samples: float, how much negative sampling you need, normally 1.0\n",
    "        batch_docs: int, number of docs for which it generates one return\n",
    "\n",
    "    return:\n",
    "        words: list of int, the numerical encoding of the central words\n",
    "        contexts: list of int, the numerical encoding of the context words\n",
    "        labels: list of int, 1 or 0\n",
    "\n",
    "    hint:\n",
    "    1. You can use skipgrams method from keras\n",
    "    2. For training purpose, words and contexts needs to be 2D array, with shape (N, 1),\n",
    "       but labels is 1D array, with shape (N, )\n",
    "    3. The output can be very big, you SHOULD using generator\n",
    "    \"\"\"\n",
    "\n",
    "    \"\"\"\n",
    "    Write your code here\n",
    "    \"\"\"\n",
    "    sampling_table = make_sampling_table(VOCAB_SIZE)\n",
    "    loc = list(range(len(text_encoded)))\n",
    "    random.shuffle(loc)\n",
    "\n",
    "    for j in loc[:batch_docs]:\n",
    "        couples, label = skipgrams(text_encoded[j], VOCAB_SIZE,\n",
    "                                    window_size=window_size,\n",
    "                                    sampling_table=sampling_table,\n",
    "                                    negative_samples=negative_samples,\n",
    "                                    shuffle=True)\n",
    "\n",
    "        if len(couples) > 0:\n",
    "            target, context_ = zip(*couples)\n",
    "            target = np.array(target, dtype=\"int32\")\n",
    "            context_ = np.array(context_, dtype=\"int32\")\n",
    "\n",
    "            yield target.tolist(), context_.tolist(), label\n",
    "\n",
    "        else:\n",
    "            continue"
   ]
  },
  {
   "cell_type": "markdown",
   "metadata": {},
   "source": [
    "## Construct Learning Model"
   ]
  },
  {
   "cell_type": "markdown",
   "metadata": {},
   "source": [
    "Now we need to create a network that looks like this:\n",
    "<img src=\"skip-gram-NN.png\" width=\"480\">"
   ]
  },
  {
   "cell_type": "code",
   "execution_count": 34,
   "metadata": {
    "ExecuteTime": {
     "end_time": "2020-03-07T23:59:39.023522Z",
     "start_time": "2020-03-07T23:59:39.005764Z"
    },
    "scrolled": false,
    "pycharm": {
     "is_executing": false
    }
   },
   "outputs": [],
   "source": [
    "from tensorflow.keras import Input, Model\n",
    "from tensorflow.keras.layers import Embedding, Reshape, dot, Dense\n",
    "\n",
    "\n",
    "embedding_dim = 100\n",
    "\n",
    "input_word = Input((1,))\n",
    "input_context = Input((1,))\n",
    "\n",
    "embedding_w = Embedding(VOCAB_SIZE, output_dim=embedding_dim, input_length=1, name='embedding_w')\n",
    "embedding_c = Embedding(VOCAB_SIZE, output_dim=embedding_dim, input_length=1, name='embedding_c')\n",
    "\n",
    "word = embedding_w(input_word)\n",
    "word = Reshape((embedding_dim, 1))(word)\n",
    "\n",
    "context = embedding_c(input_context)\n",
    "context = Reshape((embedding_dim, 1))(context)\n",
    "\n",
    "product = dot([word, context], axes=1)\n",
    "product = Reshape((1,))(product)\n",
    "\n",
    "output = Dense(1, activation='sigmoid')(product)\n",
    "\n",
    "model = Model([input_word, input_context], output)"
   ]
  },
  {
   "cell_type": "markdown",
   "metadata": {},
   "source": [
    "## Train your model "
   ]
  },
  {
   "cell_type": "markdown",
   "metadata": {},
   "source": [
    "The following is a simple version of training on batch code. You do not need to use\n",
    "opochs more than 10 since it will soon start shaking around the minimum. If you want \n",
    "to further improve your training, consider gradually increase the batch size or reduce \n",
    "the learning rate, then you can try for more than 10 epochs."
   ]
  },
  {
   "cell_type": "code",
   "execution_count": 35,
   "metadata": {
    "ExecuteTime": {
     "end_time": "2019-03-30T00:50:28.355452Z",
     "start_time": "2019-03-30T00:50:28.251027Z"
    },
    "scrolled": true,
    "pycharm": {
     "is_executing": false
    }
   },
   "outputs": [
    {
     "name": "stdout",
     "text": [
      "Epoch 0 ======\n",
      "Total trained pairs (M):       0.00 ; \t loss: 0.6931\n",
      "Total trained pairs (M):       0.00 ; \t loss: 0.6931\n",
      "Total trained pairs (M):       0.00 ; \t loss: 0.6931\n",
      "Total trained pairs (M):       0.01 ; \t loss: 0.6931\n",
      "Total trained pairs (M):       0.01 ; \t loss: 0.6931\n",
      "Total trained pairs (M):       0.01 ; \t loss: 0.6931\n",
      "Total trained pairs (M):       0.01 ; \t loss: 0.6931\n",
      "Total trained pairs (M):       0.01 ; \t loss: 0.6931\n",
      "Total trained pairs (M):       0.01 ; \t loss: 0.6931\n",
      "Total trained pairs (M):       0.01 ; \t loss: 0.6931\n",
      "Total trained pairs (M):       0.02 ; \t loss: 0.6931\n",
      "Total trained pairs (M):       0.02 ; \t loss: 0.6931\n",
      "Total trained pairs (M):       0.02 ; \t loss: 0.6931\n",
      "Total trained pairs (M):       0.02 ; \t loss: 0.6931\n",
      "Total trained pairs (M):       0.03 ; \t loss: 0.6931\n",
      "Total trained pairs (M):       0.03 ; \t loss: 0.6931\n",
      "Total trained pairs (M):       0.03 ; \t loss: 0.6931\n",
      "Total trained pairs (M):       0.03 ; \t loss: 0.6931\n",
      "Total trained pairs (M):       0.04 ; \t loss: 0.6931\n",
      "Total trained pairs (M):       0.04 ; \t loss: 0.6931\n",
      "Total trained pairs (M):       0.04 ; \t loss: 0.6931\n",
      "Total trained pairs (M):       0.04 ; \t loss: 0.6932\n",
      "Total trained pairs (M):       0.05 ; \t loss: 0.6932\n",
      "Total trained pairs (M):       0.05 ; \t loss: 0.6931\n",
      "Total trained pairs (M):       0.05 ; \t loss: 0.6932\n",
      "Total trained pairs (M):       0.05 ; \t loss: 0.6931\n",
      "Total trained pairs (M):       0.05 ; \t loss: 0.6931\n",
      "Total trained pairs (M):       0.06 ; \t loss: 0.6931\n",
      "Total trained pairs (M):       0.06 ; \t loss: 0.6931\n",
      "Total trained pairs (M):       0.06 ; \t loss: 0.6931\n",
      "Total trained pairs (M):       0.06 ; \t loss: 0.6931\n",
      "Total trained pairs (M):       0.07 ; \t loss: 0.6931\n",
      "Total trained pairs (M):       0.07 ; \t loss: 0.6931\n",
      "Total trained pairs (M):       0.08 ; \t loss: 0.6931\n",
      "Total trained pairs (M):       0.08 ; \t loss: 0.6931\n",
      "Total trained pairs (M):       0.08 ; \t loss: 0.6931\n",
      "Total trained pairs (M):       0.08 ; \t loss: 0.6931\n",
      "Total trained pairs (M):       0.08 ; \t loss: 0.6931\n",
      "Total trained pairs (M):       0.09 ; \t loss: 0.6931\n",
      "Total trained pairs (M):       0.10 ; \t loss: 0.6931\n",
      "Total trained pairs (M):       0.10 ; \t loss: 0.6931\n",
      "Total trained pairs (M):       0.11 ; \t loss: 0.6931\n",
      "Total trained pairs (M):       0.11 ; \t loss: 0.6931\n",
      "Total trained pairs (M):       0.11 ; \t loss: 0.6931\n",
      "Total trained pairs (M):       0.11 ; \t loss: 0.6931\n",
      "Total trained pairs (M):       0.11 ; \t loss: 0.6932\n",
      "Total trained pairs (M):       0.12 ; \t loss: 0.6931\n",
      "Total trained pairs (M):       0.12 ; \t loss: 0.6931\n",
      "Total trained pairs (M):       0.13 ; \t loss: 0.6931\n",
      "Total trained pairs (M):       0.13 ; \t loss: 0.6931\n",
      "Epoch 1 ======\n",
      "Total trained pairs (M):       0.13 ; \t loss: 0.6931\n",
      "Total trained pairs (M):       0.13 ; \t loss: 0.6931\n",
      "Total trained pairs (M):       0.13 ; \t loss: 0.6931\n",
      "Total trained pairs (M):       0.13 ; \t loss: 0.6931\n",
      "Total trained pairs (M):       0.13 ; \t loss: 0.6931\n",
      "Total trained pairs (M):       0.14 ; \t loss: 0.6931\n",
      "Total trained pairs (M):       0.14 ; \t loss: 0.6931\n",
      "Total trained pairs (M):       0.14 ; \t loss: 0.6931\n",
      "Total trained pairs (M):       0.15 ; \t loss: 0.6931\n",
      "Total trained pairs (M):       0.15 ; \t loss: 0.6931\n",
      "Total trained pairs (M):       0.15 ; \t loss: 0.6931\n",
      "Total trained pairs (M):       0.15 ; \t loss: 0.6931\n",
      "Total trained pairs (M):       0.15 ; \t loss: 0.6931\n",
      "Total trained pairs (M):       0.15 ; \t loss: 0.6931\n",
      "Total trained pairs (M):       0.15 ; \t loss: 0.6931\n",
      "Total trained pairs (M):       0.16 ; \t loss: 0.6931\n",
      "Total trained pairs (M):       0.16 ; \t loss: 0.6931\n",
      "Total trained pairs (M):       0.16 ; \t loss: 0.6931\n",
      "Total trained pairs (M):       0.16 ; \t loss: 0.6931\n",
      "Total trained pairs (M):       0.16 ; \t loss: 0.6931\n",
      "Total trained pairs (M):       0.16 ; \t loss: 0.6931\n",
      "Total trained pairs (M):       0.17 ; \t loss: 0.6931\n",
      "Total trained pairs (M):       0.17 ; \t loss: 0.6931\n",
      "Total trained pairs (M):       0.17 ; \t loss: 0.6931\n",
      "Total trained pairs (M):       0.18 ; \t loss: 0.6931\n",
      "Total trained pairs (M):       0.18 ; \t loss: 0.6931\n",
      "Total trained pairs (M):       0.18 ; \t loss: 0.6931\n",
      "Total trained pairs (M):       0.19 ; \t loss: 0.6931\n",
      "Total trained pairs (M):       0.19 ; \t loss: 0.6931\n",
      "Total trained pairs (M):       0.19 ; \t loss: 0.6931\n",
      "Total trained pairs (M):       0.19 ; \t loss: 0.6931\n",
      "Total trained pairs (M):       0.20 ; \t loss: 0.6931\n",
      "Total trained pairs (M):       0.20 ; \t loss: 0.6931\n",
      "Total trained pairs (M):       0.20 ; \t loss: 0.6931\n",
      "Total trained pairs (M):       0.20 ; \t loss: 0.6931\n",
      "Total trained pairs (M):       0.20 ; \t loss: 0.6931\n",
      "Total trained pairs (M):       0.21 ; \t loss: 0.6931\n",
      "Total trained pairs (M):       0.22 ; \t loss: 0.6931\n",
      "Total trained pairs (M):       0.22 ; \t loss: 0.6932\n",
      "Total trained pairs (M):       0.22 ; \t loss: 0.6931\n",
      "Total trained pairs (M):       0.22 ; \t loss: 0.6931\n",
      "Total trained pairs (M):       0.23 ; \t loss: 0.6931\n",
      "Total trained pairs (M):       0.23 ; \t loss: 0.6931\n",
      "Total trained pairs (M):       0.24 ; \t loss: 0.6931\n",
      "Total trained pairs (M):       0.24 ; \t loss: 0.6931\n",
      "Total trained pairs (M):       0.24 ; \t loss: 0.6931\n",
      "Total trained pairs (M):       0.24 ; \t loss: 0.6932\n",
      "Total trained pairs (M):       0.24 ; \t loss: 0.6931\n",
      "Total trained pairs (M):       0.25 ; \t loss: 0.6931\n",
      "Total trained pairs (M):       0.25 ; \t loss: 0.6931\n",
      "Epoch 2 ======\n",
      "Total trained pairs (M):       0.25 ; \t loss: 0.6932\n",
      "Total trained pairs (M):       0.25 ; \t loss: 0.6931\n",
      "Total trained pairs (M):       0.25 ; \t loss: 0.6931\n",
      "Total trained pairs (M):       0.25 ; \t loss: 0.6931\n",
      "Total trained pairs (M):       0.26 ; \t loss: 0.6931\n",
      "Total trained pairs (M):       0.26 ; \t loss: 0.6931\n",
      "Total trained pairs (M):       0.26 ; \t loss: 0.6931\n",
      "Total trained pairs (M):       0.26 ; \t loss: 0.6931\n",
      "Total trained pairs (M):       0.26 ; \t loss: 0.6932\n",
      "Total trained pairs (M):       0.26 ; \t loss: 0.6932\n",
      "Total trained pairs (M):       0.26 ; \t loss: 0.6931\n",
      "Total trained pairs (M):       0.27 ; \t loss: 0.6931\n",
      "Total trained pairs (M):       0.27 ; \t loss: 0.6931\n",
      "Total trained pairs (M):       0.27 ; \t loss: 0.6931\n",
      "Total trained pairs (M):       0.27 ; \t loss: 0.6931\n",
      "Total trained pairs (M):       0.27 ; \t loss: 0.6931\n",
      "Total trained pairs (M):       0.28 ; \t loss: 0.6931\n",
      "Total trained pairs (M):       0.28 ; \t loss: 0.6931\n",
      "Total trained pairs (M):       0.29 ; \t loss: 0.6931\n",
      "Total trained pairs (M):       0.29 ; \t loss: 0.6931\n",
      "Total trained pairs (M):       0.29 ; \t loss: 0.6931\n",
      "Total trained pairs (M):       0.29 ; \t loss: 0.6932\n",
      "Total trained pairs (M):       0.29 ; \t loss: 0.6931\n",
      "Total trained pairs (M):       0.29 ; \t loss: 0.6931\n",
      "Total trained pairs (M):       0.30 ; \t loss: 0.6931\n",
      "Total trained pairs (M):       0.30 ; \t loss: 0.6931\n",
      "Total trained pairs (M):       0.30 ; \t loss: 0.6931\n",
      "Total trained pairs (M):       0.30 ; \t loss: 0.6931\n",
      "Total trained pairs (M):       0.30 ; \t loss: 0.6931\n",
      "Total trained pairs (M):       0.30 ; \t loss: 0.6931\n",
      "Total trained pairs (M):       0.30 ; \t loss: 0.6931\n",
      "Total trained pairs (M):       0.31 ; \t loss: 0.6931\n",
      "Total trained pairs (M):       0.31 ; \t loss: 0.6931\n",
      "Total trained pairs (M):       0.31 ; \t loss: 0.6932\n",
      "Total trained pairs (M):       0.31 ; \t loss: 0.6931\n",
      "Total trained pairs (M):       0.31 ; \t loss: 0.6931\n",
      "Total trained pairs (M):       0.32 ; \t loss: 0.6931\n",
      "Total trained pairs (M):       0.32 ; \t loss: 0.6931\n",
      "Total trained pairs (M):       0.32 ; \t loss: 0.6931\n",
      "Total trained pairs (M):       0.33 ; \t loss: 0.6931\n",
      "Total trained pairs (M):       0.33 ; \t loss: 0.6931\n",
      "Total trained pairs (M):       0.33 ; \t loss: 0.6931\n",
      "Total trained pairs (M):       0.33 ; \t loss: 0.6931\n",
      "Total trained pairs (M):       0.33 ; \t loss: 0.6931\n",
      "Total trained pairs (M):       0.34 ; \t loss: 0.6931\n",
      "Total trained pairs (M):       0.34 ; \t loss: 0.6932\n",
      "Total trained pairs (M):       0.34 ; \t loss: 0.6931\n",
      "Total trained pairs (M):       0.34 ; \t loss: 0.6931\n",
      "Total trained pairs (M):       0.35 ; \t loss: 0.6931\n",
      "Total trained pairs (M):       0.35 ; \t loss: 0.6931\n",
      "Epoch 3 ======\n",
      "Total trained pairs (M):       0.35 ; \t loss: 0.6931\n",
      "Total trained pairs (M):       0.35 ; \t loss: 0.6931\n",
      "Total trained pairs (M):       0.36 ; \t loss: 0.6931\n",
      "Total trained pairs (M):       0.36 ; \t loss: 0.6931\n",
      "Total trained pairs (M):       0.36 ; \t loss: 0.6931\n",
      "Total trained pairs (M):       0.37 ; \t loss: 0.6931\n",
      "Total trained pairs (M):       0.37 ; \t loss: 0.6931\n",
      "Total trained pairs (M):       0.37 ; \t loss: 0.6931\n",
      "Total trained pairs (M):       0.37 ; \t loss: 0.6931\n",
      "Total trained pairs (M):       0.37 ; \t loss: 0.6931\n",
      "Total trained pairs (M):       0.38 ; \t loss: 0.6931\n",
      "Total trained pairs (M):       0.38 ; \t loss: 0.6931\n",
      "Total trained pairs (M):       0.38 ; \t loss: 0.6931\n",
      "Total trained pairs (M):       0.38 ; \t loss: 0.6931\n",
      "Total trained pairs (M):       0.38 ; \t loss: 0.6932\n",
      "Total trained pairs (M):       0.38 ; \t loss: 0.6931\n",
      "Total trained pairs (M):       0.39 ; \t loss: 0.6931\n",
      "Total trained pairs (M):       0.39 ; \t loss: 0.6931\n",
      "Total trained pairs (M):       0.39 ; \t loss: 0.6931\n",
      "Total trained pairs (M):       0.39 ; \t loss: 0.6931\n",
      "Total trained pairs (M):       0.39 ; \t loss: 0.6931\n",
      "Total trained pairs (M):       0.40 ; \t loss: 0.6931\n",
      "Total trained pairs (M):       0.40 ; \t loss: 0.6931\n",
      "Total trained pairs (M):       0.41 ; \t loss: 0.6931\n",
      "Total trained pairs (M):       0.41 ; \t loss: 0.6931\n",
      "Total trained pairs (M):       0.41 ; \t loss: 0.6931\n",
      "Total trained pairs (M):       0.42 ; \t loss: 0.6931\n",
      "Total trained pairs (M):       0.42 ; \t loss: 0.6931\n",
      "Total trained pairs (M):       0.42 ; \t loss: 0.6931\n",
      "Total trained pairs (M):       0.42 ; \t loss: 0.6931\n",
      "Total trained pairs (M):       0.43 ; \t loss: 0.6931\n",
      "Total trained pairs (M):       0.43 ; \t loss: 0.6931\n",
      "Total trained pairs (M):       0.44 ; \t loss: 0.6931\n",
      "Total trained pairs (M):       0.44 ; \t loss: 0.6931\n",
      "Total trained pairs (M):       0.44 ; \t loss: 0.6931\n",
      "Total trained pairs (M):       0.44 ; \t loss: 0.6932\n",
      "Total trained pairs (M):       0.44 ; \t loss: 0.6931\n",
      "Total trained pairs (M):       0.44 ; \t loss: 0.6931\n",
      "Total trained pairs (M):       0.45 ; \t loss: 0.6931\n",
      "Total trained pairs (M):       0.45 ; \t loss: 0.6931\n",
      "Total trained pairs (M):       0.45 ; \t loss: 0.6931\n",
      "Total trained pairs (M):       0.46 ; \t loss: 0.6931\n",
      "Total trained pairs (M):       0.46 ; \t loss: 0.6931\n",
      "Total trained pairs (M):       0.46 ; \t loss: 0.6931\n",
      "Total trained pairs (M):       0.46 ; \t loss: 0.6930\n",
      "Total trained pairs (M):       0.46 ; \t loss: 0.6931\n",
      "Total trained pairs (M):       0.46 ; \t loss: 0.6931\n",
      "Total trained pairs (M):       0.47 ; \t loss: 0.6931\n",
      "Total trained pairs (M):       0.47 ; \t loss: 0.6931\n",
      "Total trained pairs (M):       0.47 ; \t loss: 0.6931\n",
      "Epoch 4 ======\n",
      "Total trained pairs (M):       0.47 ; \t loss: 0.6931\n",
      "Total trained pairs (M):       0.47 ; \t loss: 0.6931\n",
      "Total trained pairs (M):       0.47 ; \t loss: 0.6931\n",
      "Total trained pairs (M):       0.48 ; \t loss: 0.6931\n",
      "Total trained pairs (M):       0.48 ; \t loss: 0.6931\n",
      "Total trained pairs (M):       0.48 ; \t loss: 0.6931\n",
      "Total trained pairs (M):       0.48 ; \t loss: 0.6931\n",
      "Total trained pairs (M):       0.49 ; \t loss: 0.6931\n",
      "Total trained pairs (M):       0.49 ; \t loss: 0.6931\n",
      "Total trained pairs (M):       0.49 ; \t loss: 0.6931\n",
      "Total trained pairs (M):       0.49 ; \t loss: 0.6931\n",
      "Total trained pairs (M):       0.50 ; \t loss: 0.6931\n",
      "Total trained pairs (M):       0.50 ; \t loss: 0.6931\n",
      "Total trained pairs (M):       0.50 ; \t loss: 0.6931\n",
      "Total trained pairs (M):       0.50 ; \t loss: 0.6930\n",
      "Total trained pairs (M):       0.50 ; \t loss: 0.6931\n",
      "Total trained pairs (M):       0.50 ; \t loss: 0.6931\n",
      "Total trained pairs (M):       0.51 ; \t loss: 0.6931\n",
      "Total trained pairs (M):       0.51 ; \t loss: 0.6931\n",
      "Total trained pairs (M):       0.51 ; \t loss: 0.6931\n",
      "Total trained pairs (M):       0.51 ; \t loss: 0.6931\n",
      "Total trained pairs (M):       0.52 ; \t loss: 0.6930\n",
      "Total trained pairs (M):       0.52 ; \t loss: 0.6930\n",
      "Total trained pairs (M):       0.52 ; \t loss: 0.6930\n",
      "Total trained pairs (M):       0.52 ; \t loss: 0.6930\n",
      "Total trained pairs (M):       0.53 ; \t loss: 0.6931\n",
      "Total trained pairs (M):       0.53 ; \t loss: 0.6931\n",
      "Total trained pairs (M):       0.54 ; \t loss: 0.6930\n",
      "Total trained pairs (M):       0.54 ; \t loss: 0.6931\n",
      "Total trained pairs (M):       0.54 ; \t loss: 0.6930\n",
      "Total trained pairs (M):       0.54 ; \t loss: 0.6930\n",
      "Total trained pairs (M):       0.54 ; \t loss: 0.6931\n",
      "Total trained pairs (M):       0.54 ; \t loss: 0.6930\n",
      "Total trained pairs (M):       0.55 ; \t loss: 0.6931\n",
      "Total trained pairs (M):       0.55 ; \t loss: 0.6931\n",
      "Total trained pairs (M):       0.55 ; \t loss: 0.6931\n",
      "Total trained pairs (M):       0.56 ; \t loss: 0.6930\n",
      "Total trained pairs (M):       0.56 ; \t loss: 0.6930\n",
      "Total trained pairs (M):       0.56 ; \t loss: 0.6931\n",
      "Total trained pairs (M):       0.57 ; \t loss: 0.6928\n",
      "Total trained pairs (M):       0.57 ; \t loss: 0.6928\n",
      "Total trained pairs (M):       0.57 ; \t loss: 0.6930\n",
      "Total trained pairs (M):       0.57 ; \t loss: 0.6931\n",
      "Total trained pairs (M):       0.57 ; \t loss: 0.6932\n",
      "Total trained pairs (M):       0.57 ; \t loss: 0.6929\n",
      "Total trained pairs (M):       0.57 ; \t loss: 0.6931\n",
      "Total trained pairs (M):       0.57 ; \t loss: 0.6930\n",
      "Total trained pairs (M):       0.57 ; \t loss: 0.6931\n",
      "Total trained pairs (M):       0.57 ; \t loss: 0.6929\n",
      "Total trained pairs (M):       0.57 ; \t loss: 0.6930\n",
      "Epoch 5 ======\n",
      "Total trained pairs (M):       0.58 ; \t loss: 0.6930\n",
      "Total trained pairs (M):       0.58 ; \t loss: 0.6931\n",
      "Total trained pairs (M):       0.58 ; \t loss: 0.6931\n",
      "Total trained pairs (M):       0.58 ; \t loss: 0.6929\n",
      "Total trained pairs (M):       0.58 ; \t loss: 0.6931\n",
      "Total trained pairs (M):       0.58 ; \t loss: 0.6929\n",
      "Total trained pairs (M):       0.58 ; \t loss: 0.6929\n",
      "Total trained pairs (M):       0.59 ; \t loss: 0.6929\n",
      "Total trained pairs (M):       0.59 ; \t loss: 0.6930\n",
      "Total trained pairs (M):       0.59 ; \t loss: 0.6930\n",
      "Total trained pairs (M):       0.60 ; \t loss: 0.6930\n",
      "Total trained pairs (M):       0.60 ; \t loss: 0.6929\n",
      "Total trained pairs (M):       0.60 ; \t loss: 0.6930\n",
      "Total trained pairs (M):       0.61 ; \t loss: 0.6929\n",
      "Total trained pairs (M):       0.62 ; \t loss: 0.6929\n",
      "Total trained pairs (M):       0.62 ; \t loss: 0.6930\n",
      "Total trained pairs (M):       0.62 ; \t loss: 0.6927\n",
      "Total trained pairs (M):       0.62 ; \t loss: 0.6930\n",
      "Total trained pairs (M):       0.62 ; \t loss: 0.6930\n",
      "Total trained pairs (M):       0.63 ; \t loss: 0.6928\n",
      "Total trained pairs (M):       0.63 ; \t loss: 0.6929\n",
      "Total trained pairs (M):       0.63 ; \t loss: 0.6928\n",
      "Total trained pairs (M):       0.63 ; \t loss: 0.6928\n",
      "Total trained pairs (M):       0.63 ; \t loss: 0.6929\n",
      "Total trained pairs (M):       0.63 ; \t loss: 0.6927\n",
      "Total trained pairs (M):       0.63 ; \t loss: 0.6928\n",
      "Total trained pairs (M):       0.63 ; \t loss: 0.6929\n",
      "Total trained pairs (M):       0.63 ; \t loss: 0.6930\n",
      "Total trained pairs (M):       0.64 ; \t loss: 0.6926\n",
      "Total trained pairs (M):       0.64 ; \t loss: 0.6930\n",
      "Total trained pairs (M):       0.64 ; \t loss: 0.6929\n",
      "Total trained pairs (M):       0.64 ; \t loss: 0.6928\n",
      "Total trained pairs (M):       0.64 ; \t loss: 0.6928\n",
      "Total trained pairs (M):       0.64 ; \t loss: 0.6930\n",
      "Total trained pairs (M):       0.65 ; \t loss: 0.6929\n",
      "Total trained pairs (M):       0.65 ; \t loss: 0.6929\n",
      "Total trained pairs (M):       0.65 ; \t loss: 0.6926\n",
      "Total trained pairs (M):       0.65 ; \t loss: 0.6929\n",
      "Total trained pairs (M):       0.65 ; \t loss: 0.6930\n",
      "Total trained pairs (M):       0.65 ; \t loss: 0.6929\n",
      "Total trained pairs (M):       0.65 ; \t loss: 0.6930\n",
      "Total trained pairs (M):       0.65 ; \t loss: 0.6928\n",
      "Total trained pairs (M):       0.66 ; \t loss: 0.6929\n",
      "Total trained pairs (M):       0.66 ; \t loss: 0.6931\n",
      "Total trained pairs (M):       0.66 ; \t loss: 0.6929\n",
      "Total trained pairs (M):       0.66 ; \t loss: 0.6927\n",
      "Total trained pairs (M):       0.66 ; \t loss: 0.6928\n",
      "Total trained pairs (M):       0.67 ; \t loss: 0.6927\n",
      "Total trained pairs (M):       0.67 ; \t loss: 0.6922\n",
      "Total trained pairs (M):       0.67 ; \t loss: 0.6925\n",
      "Epoch 6 ======\n",
      "Total trained pairs (M):       0.68 ; \t loss: 0.6926\n",
      "Total trained pairs (M):       0.68 ; \t loss: 0.6929\n",
      "Total trained pairs (M):       0.68 ; \t loss: 0.6928\n",
      "Total trained pairs (M):       0.68 ; \t loss: 0.6924\n",
      "Total trained pairs (M):       0.68 ; \t loss: 0.6929\n",
      "Total trained pairs (M):       0.68 ; \t loss: 0.6921\n",
      "Total trained pairs (M):       0.68 ; \t loss: 0.6922\n",
      "Total trained pairs (M):       0.68 ; \t loss: 0.6927\n",
      "Total trained pairs (M):       0.69 ; \t loss: 0.6926\n",
      "Total trained pairs (M):       0.69 ; \t loss: 0.6930\n",
      "Total trained pairs (M):       0.69 ; \t loss: 0.6931\n",
      "Total trained pairs (M):       0.69 ; \t loss: 0.6924\n",
      "Total trained pairs (M):       0.69 ; \t loss: 0.6930\n",
      "Total trained pairs (M):       0.69 ; \t loss: 0.6925\n",
      "Total trained pairs (M):       0.69 ; \t loss: 0.6926\n",
      "Total trained pairs (M):       0.69 ; \t loss: 0.6929\n",
      "Total trained pairs (M):       0.70 ; \t loss: 0.6928\n",
      "Total trained pairs (M):       0.70 ; \t loss: 0.6928\n",
      "Total trained pairs (M):       0.70 ; \t loss: 0.6924\n",
      "Total trained pairs (M):       0.70 ; \t loss: 0.6927\n",
      "Total trained pairs (M):       0.70 ; \t loss: 0.6925\n",
      "Total trained pairs (M):       0.71 ; \t loss: 0.6926\n",
      "Total trained pairs (M):       0.71 ; \t loss: 0.6924\n",
      "Total trained pairs (M):       0.71 ; \t loss: 0.6929\n",
      "Total trained pairs (M):       0.71 ; \t loss: 0.6927\n",
      "Total trained pairs (M):       0.71 ; \t loss: 0.6927\n",
      "Total trained pairs (M):       0.71 ; \t loss: 0.6927\n",
      "Total trained pairs (M):       0.72 ; \t loss: 0.6925\n",
      "Total trained pairs (M):       0.72 ; \t loss: 0.6924\n",
      "Total trained pairs (M):       0.72 ; \t loss: 0.6925\n",
      "Total trained pairs (M):       0.72 ; \t loss: 0.6928\n",
      "Total trained pairs (M):       0.73 ; \t loss: 0.6927\n",
      "Total trained pairs (M):       0.73 ; \t loss: 0.6927\n",
      "Total trained pairs (M):       0.73 ; \t loss: 0.6926\n",
      "Total trained pairs (M):       0.73 ; \t loss: 0.6922\n",
      "Total trained pairs (M):       0.73 ; \t loss: 0.6926\n",
      "Total trained pairs (M):       0.73 ; \t loss: 0.6923\n",
      "Total trained pairs (M):       0.74 ; \t loss: 0.6925\n",
      "Total trained pairs (M):       0.74 ; \t loss: 0.6923\n",
      "Total trained pairs (M):       0.74 ; \t loss: 0.6924\n",
      "Total trained pairs (M):       0.74 ; \t loss: 0.6929\n",
      "Total trained pairs (M):       0.75 ; \t loss: 0.6930\n",
      "Total trained pairs (M):       0.75 ; \t loss: 0.6927\n",
      "Total trained pairs (M):       0.75 ; \t loss: 0.6922\n",
      "Total trained pairs (M):       0.75 ; \t loss: 0.6922\n",
      "Total trained pairs (M):       0.76 ; \t loss: 0.6920\n",
      "Total trained pairs (M):       0.76 ; \t loss: 0.6926\n",
      "Total trained pairs (M):       0.76 ; \t loss: 0.6923\n",
      "Total trained pairs (M):       0.76 ; \t loss: 0.6922\n",
      "Total trained pairs (M):       0.76 ; \t loss: 0.6922\n",
      "Epoch 7 ======\n",
      "Total trained pairs (M):       0.76 ; \t loss: 0.6927\n",
      "Total trained pairs (M):       0.76 ; \t loss: 0.6923\n",
      "Total trained pairs (M):       0.76 ; \t loss: 0.6925\n",
      "Total trained pairs (M):       0.76 ; \t loss: 0.6919\n",
      "Total trained pairs (M):       0.76 ; \t loss: 0.6921\n",
      "Total trained pairs (M):       0.77 ; \t loss: 0.6915\n",
      "Total trained pairs (M):       0.77 ; \t loss: 0.6916\n",
      "Total trained pairs (M):       0.77 ; \t loss: 0.6923\n",
      "Total trained pairs (M):       0.77 ; \t loss: 0.6922\n",
      "Total trained pairs (M):       0.77 ; \t loss: 0.6913\n",
      "Total trained pairs (M):       0.77 ; \t loss: 0.6926\n",
      "Total trained pairs (M):       0.77 ; \t loss: 0.6919\n",
      "Total trained pairs (M):       0.78 ; \t loss: 0.6927\n",
      "Total trained pairs (M):       0.78 ; \t loss: 0.6925\n",
      "Total trained pairs (M):       0.78 ; \t loss: 0.6915\n",
      "Total trained pairs (M):       0.79 ; \t loss: 0.6918\n",
      "Total trained pairs (M):       0.79 ; \t loss: 0.6927\n",
      "Total trained pairs (M):       0.79 ; \t loss: 0.6911\n",
      "Total trained pairs (M):       0.79 ; \t loss: 0.6924\n",
      "Total trained pairs (M):       0.79 ; \t loss: 0.6917\n",
      "Total trained pairs (M):       0.79 ; \t loss: 0.6917\n",
      "Total trained pairs (M):       0.80 ; \t loss: 0.6918\n",
      "Total trained pairs (M):       0.80 ; \t loss: 0.6914\n",
      "Total trained pairs (M):       0.81 ; \t loss: 0.6917\n",
      "Total trained pairs (M):       0.81 ; \t loss: 0.6918\n",
      "Total trained pairs (M):       0.81 ; \t loss: 0.6923\n",
      "Total trained pairs (M):       0.81 ; \t loss: 0.6893\n",
      "Total trained pairs (M):       0.81 ; \t loss: 0.6917\n",
      "Total trained pairs (M):       0.81 ; \t loss: 0.6923\n",
      "Total trained pairs (M):       0.81 ; \t loss: 0.6922\n",
      "Total trained pairs (M):       0.81 ; \t loss: 0.6908\n",
      "Total trained pairs (M):       0.81 ; \t loss: 0.6920\n",
      "Total trained pairs (M):       0.81 ; \t loss: 0.6928\n",
      "Total trained pairs (M):       0.81 ; \t loss: 0.6922\n",
      "Total trained pairs (M):       0.82 ; \t loss: 0.6924\n",
      "Total trained pairs (M):       0.82 ; \t loss: 0.6912\n",
      "Total trained pairs (M):       0.82 ; \t loss: 0.6921\n",
      "Total trained pairs (M):       0.82 ; \t loss: 0.6923\n",
      "Total trained pairs (M):       0.83 ; \t loss: 0.6915\n",
      "Total trained pairs (M):       0.83 ; \t loss: 0.6904\n",
      "Total trained pairs (M):       0.83 ; \t loss: 0.6922\n",
      "Total trained pairs (M):       0.83 ; \t loss: 0.6913\n",
      "Total trained pairs (M):       0.83 ; \t loss: 0.6920\n",
      "Total trained pairs (M):       0.84 ; \t loss: 0.6917\n",
      "Total trained pairs (M):       0.84 ; \t loss: 0.6906\n",
      "Total trained pairs (M):       0.84 ; \t loss: 0.6893\n",
      "Total trained pairs (M):       0.84 ; \t loss: 0.6898\n",
      "Total trained pairs (M):       0.85 ; \t loss: 0.6915\n",
      "Total trained pairs (M):       0.86 ; \t loss: 0.6918\n",
      "Total trained pairs (M):       0.86 ; \t loss: 0.6884\n",
      "Epoch 8 ======\n",
      "Total trained pairs (M):       0.86 ; \t loss: 0.6917\n",
      "Total trained pairs (M):       0.87 ; \t loss: 0.6916\n",
      "Total trained pairs (M):       0.87 ; \t loss: 0.6898\n",
      "Total trained pairs (M):       0.87 ; \t loss: 0.6873\n",
      "Total trained pairs (M):       0.87 ; \t loss: 0.6909\n",
      "Total trained pairs (M):       0.87 ; \t loss: 0.6921\n",
      "Total trained pairs (M):       0.87 ; \t loss: 0.6909\n",
      "Total trained pairs (M):       0.88 ; \t loss: 0.6912\n",
      "Total trained pairs (M):       0.88 ; \t loss: 0.6913\n",
      "Total trained pairs (M):       0.88 ; \t loss: 0.6916\n",
      "Total trained pairs (M):       0.88 ; \t loss: 0.6902\n",
      "Total trained pairs (M):       0.89 ; \t loss: 0.6907\n",
      "Total trained pairs (M):       0.89 ; \t loss: 0.6915\n",
      "Total trained pairs (M):       0.89 ; \t loss: 0.6892\n",
      "Total trained pairs (M):       0.89 ; \t loss: 0.6893\n",
      "Total trained pairs (M):       0.90 ; \t loss: 0.6906\n",
      "Total trained pairs (M):       0.90 ; \t loss: 0.6917\n",
      "Total trained pairs (M):       0.91 ; \t loss: 0.6901\n",
      "Total trained pairs (M):       0.91 ; \t loss: 0.6898\n",
      "Total trained pairs (M):       0.91 ; \t loss: 0.6921\n",
      "Total trained pairs (M):       0.91 ; \t loss: 0.6919\n",
      "Total trained pairs (M):       0.91 ; \t loss: 0.6926\n",
      "Total trained pairs (M):       0.91 ; \t loss: 0.6912\n",
      "Total trained pairs (M):       0.91 ; \t loss: 0.6911\n",
      "Total trained pairs (M):       0.92 ; \t loss: 0.6906\n",
      "Total trained pairs (M):       0.92 ; \t loss: 0.6912\n",
      "Total trained pairs (M):       0.92 ; \t loss: 0.6907\n",
      "Total trained pairs (M):       0.92 ; \t loss: 0.6912\n",
      "Total trained pairs (M):       0.92 ; \t loss: 0.6915\n",
      "Total trained pairs (M):       0.93 ; \t loss: 0.6910\n",
      "Total trained pairs (M):       0.93 ; \t loss: 0.6918\n",
      "Total trained pairs (M):       0.93 ; \t loss: 0.6910\n",
      "Total trained pairs (M):       0.93 ; \t loss: 0.6922\n",
      "Total trained pairs (M):       0.94 ; \t loss: 0.6904\n",
      "Total trained pairs (M):       0.94 ; \t loss: 0.6890\n",
      "Total trained pairs (M):       0.94 ; \t loss: 0.6898\n",
      "Total trained pairs (M):       0.94 ; \t loss: 0.6896\n",
      "Total trained pairs (M):       0.94 ; \t loss: 0.6909\n",
      "Total trained pairs (M):       0.95 ; \t loss: 0.6898\n",
      "Total trained pairs (M):       0.95 ; \t loss: 0.6910\n",
      "Total trained pairs (M):       0.95 ; \t loss: 0.6902\n",
      "Total trained pairs (M):       0.95 ; \t loss: 0.6850\n",
      "Total trained pairs (M):       0.96 ; \t loss: 0.6905\n",
      "Total trained pairs (M):       0.96 ; \t loss: 0.6902\n",
      "Total trained pairs (M):       0.96 ; \t loss: 0.6895\n",
      "Total trained pairs (M):       0.96 ; \t loss: 0.6871\n",
      "Total trained pairs (M):       0.97 ; \t loss: 0.6902\n",
      "Total trained pairs (M):       0.97 ; \t loss: 0.6897\n",
      "Total trained pairs (M):       0.97 ; \t loss: 0.6913\n",
      "Total trained pairs (M):       0.97 ; \t loss: 0.6902\n",
      "Epoch 9 ======\n",
      "Total trained pairs (M):       0.98 ; \t loss: 0.6914\n",
      "Total trained pairs (M):       0.98 ; \t loss: 0.6910\n",
      "Total trained pairs (M):       0.98 ; \t loss: 0.6908\n",
      "Total trained pairs (M):       0.99 ; \t loss: 0.6896\n",
      "Total trained pairs (M):       0.99 ; \t loss: 0.6896\n",
      "Total trained pairs (M):       0.99 ; \t loss: 0.6910\n",
      "Total trained pairs (M):       0.99 ; \t loss: 0.6868\n",
      "Total trained pairs (M):       0.99 ; \t loss: 0.6918\n",
      "Total trained pairs (M):       0.99 ; \t loss: 0.6908\n",
      "Total trained pairs (M):       1.00 ; \t loss: 0.6892\n",
      "Total trained pairs (M):       1.00 ; \t loss: 0.6900\n",
      "Total trained pairs (M):       1.00 ; \t loss: 0.6906\n",
      "Total trained pairs (M):       1.00 ; \t loss: 0.6903\n",
      "Total trained pairs (M):       1.00 ; \t loss: 0.6894\n",
      "Total trained pairs (M):       1.00 ; \t loss: 0.6892\n",
      "Total trained pairs (M):       1.00 ; \t loss: 0.6896\n",
      "Total trained pairs (M):       1.00 ; \t loss: 0.6910\n",
      "Total trained pairs (M):       1.01 ; \t loss: 0.6901\n",
      "Total trained pairs (M):       1.01 ; \t loss: 0.6899\n",
      "Total trained pairs (M):       1.01 ; \t loss: 0.6900\n",
      "Total trained pairs (M):       1.01 ; \t loss: 0.6894\n",
      "Total trained pairs (M):       1.01 ; \t loss: 0.6879\n",
      "Total trained pairs (M):       1.01 ; \t loss: 0.6834\n",
      "Total trained pairs (M):       1.01 ; \t loss: 0.6875\n",
      "Total trained pairs (M):       1.01 ; \t loss: 0.6874\n",
      "Total trained pairs (M):       1.02 ; \t loss: 0.6874\n",
      "Total trained pairs (M):       1.02 ; \t loss: 0.6891\n",
      "Total trained pairs (M):       1.02 ; \t loss: 0.6864\n",
      "Total trained pairs (M):       1.03 ; \t loss: 0.6866\n",
      "Total trained pairs (M):       1.03 ; \t loss: 0.6868\n",
      "Total trained pairs (M):       1.03 ; \t loss: 0.6884\n",
      "Total trained pairs (M):       1.03 ; \t loss: 0.6894\n",
      "Total trained pairs (M):       1.03 ; \t loss: 0.6901\n",
      "Total trained pairs (M):       1.03 ; \t loss: 0.6852\n",
      "Total trained pairs (M):       1.03 ; \t loss: 0.6909\n",
      "Total trained pairs (M):       1.03 ; \t loss: 0.6833\n",
      "Total trained pairs (M):       1.04 ; \t loss: 0.6842\n",
      "Total trained pairs (M):       1.04 ; \t loss: 0.6882\n",
      "Total trained pairs (M):       1.04 ; \t loss: 0.6893\n",
      "Total trained pairs (M):       1.04 ; \t loss: 0.6902\n",
      "Total trained pairs (M):       1.04 ; \t loss: 0.6892\n",
      "Total trained pairs (M):       1.04 ; \t loss: 0.6870\n",
      "Total trained pairs (M):       1.04 ; \t loss: 0.6877\n",
      "Total trained pairs (M):       1.05 ; \t loss: 0.6850\n",
      "Total trained pairs (M):       1.05 ; \t loss: 0.6873\n",
      "Total trained pairs (M):       1.06 ; \t loss: 0.6884\n",
      "Total trained pairs (M):       1.06 ; \t loss: 0.6888\n",
      "Total trained pairs (M):       1.06 ; \t loss: 0.6890\n",
      "Total trained pairs (M):       1.07 ; \t loss: 0.6892\n",
      "Total trained pairs (M):       1.07 ; \t loss: 0.6895\n"
     ],
     "output_type": "stream"
    }
   ],
   "source": [
    "model.compile(loss=\"binary_crossentropy\", optimizer=\"rmsprop\")\n",
    "\n",
    "epochs = 10\n",
    "ntot = 0\n",
    "for epoch in range(epochs):\n",
    "    print(\"Epoch %d ======\" % epoch)\n",
    "    for words, contexts, labels in training_data_generator(text_encoded, batch_docs=50):\n",
    "        loss = model.train_on_batch(x=[words, contexts], y=labels)\n",
    "        ntot += len(words)\n",
    "        print(\"Total trained pairs (M): %10.2f ; \\t loss: %.4f\" % (ntot/1e6, loss))"
   ]
  },
  {
   "cell_type": "markdown",
   "metadata": {},
   "source": [
    "## Transform the embedding to a table\n",
    "\n",
    "Ready to translate the model you trained into the embedding DataFrame?"
   ]
  },
  {
   "cell_type": "code",
   "execution_count": 36,
   "metadata": {
    "ExecuteTime": {
     "end_time": "2019-03-30T00:54:01.369150Z",
     "start_time": "2019-03-30T00:54:01.317001Z"
    },
    "pycharm": {
     "is_executing": false
    }
   },
   "outputs": [],
   "source": [
    "def embedding2df(embedding_layer, tokenmap_reverse):\n",
    "    return pd.DataFrame(embedding_layer.get_weights()[0], \n",
    "                        tokenmap_reverse.values()).drop(\"_unknown_\", errors='ignore')  \n",
    "\n",
    "skip = embedding2df(model.layers[2], tokenmap_reverse)"
   ]
  },
  {
   "cell_type": "markdown",
   "metadata": {},
   "source": [
    "## Test your trained embedding"
   ]
  },
  {
   "cell_type": "markdown",
   "metadata": {
    "ExecuteTime": {
     "end_time": "2019-03-30T01:10:10.760048Z",
     "start_time": "2019-03-30T01:10:08.741980Z"
    }
   },
   "source": [
    "Use the embedding you just trained, repeat the exploration you did for Section 3."
   ]
  },
  {
   "cell_type": "code",
   "execution_count": 37,
   "outputs": [
    {
     "name": "stdout",
     "text": [
      "Using euclidean_distances, the closest words to frog are:\n",
      "hinted     0.320738\n",
      "ham        0.321132\n",
      "hoyt       0.324782\n",
      "robbing    0.326062\n",
      "chri       0.326510\n",
      "dtype: float64\n",
      "Using cosine_distances, the closest words to frog are:\n",
      "ham            0.599083\n",
      "kungfu         0.613312\n",
      "moes           0.617561\n",
      "apprehended    0.628022\n",
      "masse          0.634055\n",
      "dtype: float64\n"
     ],
     "output_type": "stream"
    }
   ],
   "source": [
    "print(\"Using euclidean_distances, the closest words to frog are:\")\n",
    "print(find_nearest(skip.T, 'lion'))\n",
    "print(\"Using cosine_distances, the closest words to frog are:\")\n",
    "print(find_nearest(skip.T, 'lion', distance=cosine_distances))\n"
   ],
   "metadata": {
    "collapsed": false,
    "pycharm": {
     "name": "#%%\n",
     "is_executing": false
    }
   }
  },
  {
   "cell_type": "markdown",
   "metadata": {},
   "source": [
    "# Extra"
   ]
  },
  {
   "cell_type": "code",
   "execution_count": 38,
   "metadata": {
    "ExecuteTime": {
     "end_time": "2020-03-07T20:31:01.815021Z",
     "start_time": "2020-03-07T20:31:01.809481Z"
    },
    "pycharm": {
     "is_executing": false
    }
   },
   "outputs": [],
   "source": [
    "# Try to use embedding to solve the previous 2 homeworks"
   ]
  },
  {
   "cell_type": "markdown",
   "metadata": {
    "pycharm": {
     "name": "#%% md\n"
    }
   },
   "source": [
    "# Final project (Not due this week)\n",
    "\n",
    "**Work with your teammates and start working on your final project proposal, think about these questions:**\n",
    "- The problem you try to solve and the value of this problem\n",
    "- Some current solution to this problem, reference citation if needed\n",
    "- Outline your approach and the goal you want to achieve\n",
    "\n"
   ]
  }
 ],
 "metadata": {
  "kernelspec": {
   "display_name": "Python 3",
   "language": "python",
   "name": "python3"
  },
  "language_info": {
   "codemirror_mode": {
    "name": "ipython",
    "version": 3
   },
   "file_extension": ".py",
   "mimetype": "text/x-python",
   "name": "python",
   "nbconvert_exporter": "python",
   "pygments_lexer": "ipython3",
   "version": "3.7.1"
  },
  "pycharm": {
   "stem_cell": {
    "cell_type": "raw",
    "source": [],
    "metadata": {
     "collapsed": false
    }
   }
  },
  "toc": {
   "base_numbering": 1,
   "nav_menu": {},
   "number_sections": true,
   "sideBar": true,
   "skip_h1_title": false,
   "title_cell": "Table of Contents",
   "title_sidebar": "Contents",
   "toc_cell": false,
   "toc_position": {
    "height": "calc(100% - 180px)",
    "left": "10px",
    "top": "150px",
    "width": "170px"
   },
   "toc_section_display": true,
   "toc_window_display": true
  }
 },
 "nbformat": 4,
 "nbformat_minor": 2
}